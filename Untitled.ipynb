{
 "cells": [
  {
   "cell_type": "code",
   "execution_count": 1,
   "id": "aa81f7d3-7e0d-4659-8db7-dd6c6587559d",
   "metadata": {},
   "outputs": [
    {
     "name": "stdout",
     "output_type": "stream",
     "text": [
      "\u001b[31mERROR: Exception:\n",
      "Traceback (most recent call last):\n",
      "  File \"/home/aiden/miniconda3/envs/nyc_airbnb_dev/lib/python3.10/site-packages/pip/_internal/cli/base_command.py\", line 180, in exc_logging_wrapper\n",
      "    status = run_func(*args)\n",
      "  File \"/home/aiden/miniconda3/envs/nyc_airbnb_dev/lib/python3.10/site-packages/pip/_internal/cli/req_command.py\", line 245, in wrapper\n",
      "    return func(self, options, args)\n",
      "  File \"/home/aiden/miniconda3/envs/nyc_airbnb_dev/lib/python3.10/site-packages/pip/_internal/commands/install.py\", line 362, in run\n",
      "    resolver = self.make_resolver(\n",
      "  File \"/home/aiden/miniconda3/envs/nyc_airbnb_dev/lib/python3.10/site-packages/pip/_internal/cli/req_command.py\", line 353, in make_resolver\n",
      "    import pip._internal.resolution.resolvelib.resolver\n",
      "  File \"/home/aiden/miniconda3/envs/nyc_airbnb_dev/lib/python3.10/site-packages/pip/_internal/resolution/resolvelib/resolver.py\", line 8, in <module>\n",
      "    from pip._vendor.resolvelib import BaseReporter, ResolutionImpossible\n",
      "  File \"/home/aiden/miniconda3/envs/nyc_airbnb_dev/lib/python3.10/site-packages/pip/_vendor/resolvelib/__init__.py\", line 19, in <module>\n",
      "    from .resolvers import (\n",
      "  File \"/home/aiden/miniconda3/envs/nyc_airbnb_dev/lib/python3.10/site-packages/pip/_vendor/resolvelib/resolvers/__init__.py\", line 1, in <module>\n",
      "    from ..structs import RequirementInformation\n",
      "ImportError: cannot import name 'RequirementInformation' from 'pip._vendor.resolvelib.structs' (/home/aiden/miniconda3/envs/nyc_airbnb_dev/lib/python3.10/site-packages/pip/_vendor/resolvelib/structs.py)\u001b[0m\u001b[31m\n",
      "\u001b[0mNote: you may need to restart the kernel to use updated packages.\n",
      "\u001b[31mERROR: Exception:\n",
      "Traceback (most recent call last):\n",
      "  File \"/home/aiden/miniconda3/envs/nyc_airbnb_dev/lib/python3.10/site-packages/pip/_internal/cli/base_command.py\", line 180, in exc_logging_wrapper\n",
      "    status = run_func(*args)\n",
      "  File \"/home/aiden/miniconda3/envs/nyc_airbnb_dev/lib/python3.10/site-packages/pip/_internal/cli/req_command.py\", line 245, in wrapper\n",
      "    return func(self, options, args)\n",
      "  File \"/home/aiden/miniconda3/envs/nyc_airbnb_dev/lib/python3.10/site-packages/pip/_internal/commands/install.py\", line 362, in run\n",
      "    resolver = self.make_resolver(\n",
      "  File \"/home/aiden/miniconda3/envs/nyc_airbnb_dev/lib/python3.10/site-packages/pip/_internal/cli/req_command.py\", line 353, in make_resolver\n",
      "    import pip._internal.resolution.resolvelib.resolver\n",
      "  File \"/home/aiden/miniconda3/envs/nyc_airbnb_dev/lib/python3.10/site-packages/pip/_internal/resolution/resolvelib/resolver.py\", line 8, in <module>\n",
      "    from pip._vendor.resolvelib import BaseReporter, ResolutionImpossible\n",
      "  File \"/home/aiden/miniconda3/envs/nyc_airbnb_dev/lib/python3.10/site-packages/pip/_vendor/resolvelib/__init__.py\", line 19, in <module>\n",
      "    from .resolvers import (\n",
      "  File \"/home/aiden/miniconda3/envs/nyc_airbnb_dev/lib/python3.10/site-packages/pip/_vendor/resolvelib/resolvers/__init__.py\", line 1, in <module>\n",
      "    from ..structs import RequirementInformation\n",
      "ImportError: cannot import name 'RequirementInformation' from 'pip._vendor.resolvelib.structs' (/home/aiden/miniconda3/envs/nyc_airbnb_dev/lib/python3.10/site-packages/pip/_vendor/resolvelib/structs.py)\u001b[0m\u001b[31m\n",
      "\u001b[0mNote: you may need to restart the kernel to use updated packages.\n",
      "\u001b[31mERROR: Exception:\n",
      "Traceback (most recent call last):\n",
      "  File \"/home/aiden/miniconda3/envs/nyc_airbnb_dev/lib/python3.10/site-packages/pip/_internal/cli/base_command.py\", line 180, in exc_logging_wrapper\n",
      "    status = run_func(*args)\n",
      "  File \"/home/aiden/miniconda3/envs/nyc_airbnb_dev/lib/python3.10/site-packages/pip/_internal/cli/req_command.py\", line 245, in wrapper\n",
      "    return func(self, options, args)\n",
      "  File \"/home/aiden/miniconda3/envs/nyc_airbnb_dev/lib/python3.10/site-packages/pip/_internal/commands/install.py\", line 362, in run\n",
      "    resolver = self.make_resolver(\n",
      "  File \"/home/aiden/miniconda3/envs/nyc_airbnb_dev/lib/python3.10/site-packages/pip/_internal/cli/req_command.py\", line 353, in make_resolver\n",
      "    import pip._internal.resolution.resolvelib.resolver\n",
      "  File \"/home/aiden/miniconda3/envs/nyc_airbnb_dev/lib/python3.10/site-packages/pip/_internal/resolution/resolvelib/resolver.py\", line 8, in <module>\n",
      "    from pip._vendor.resolvelib import BaseReporter, ResolutionImpossible\n",
      "  File \"/home/aiden/miniconda3/envs/nyc_airbnb_dev/lib/python3.10/site-packages/pip/_vendor/resolvelib/__init__.py\", line 19, in <module>\n",
      "    from .resolvers import (\n",
      "  File \"/home/aiden/miniconda3/envs/nyc_airbnb_dev/lib/python3.10/site-packages/pip/_vendor/resolvelib/resolvers/__init__.py\", line 1, in <module>\n",
      "    from ..structs import RequirementInformation\n",
      "ImportError: cannot import name 'RequirementInformation' from 'pip._vendor.resolvelib.structs' (/home/aiden/miniconda3/envs/nyc_airbnb_dev/lib/python3.10/site-packages/pip/_vendor/resolvelib/structs.py)\u001b[0m\u001b[31m\n",
      "\u001b[0mNote: you may need to restart the kernel to use updated packages.\n"
     ]
    }
   ],
   "source": [
    "%pip install wandb==0.16.0\n",
    "%pip install ydata-profiling==4.12.1\n",
    "%pip install pandas==2.1.3"
   ]
  },
  {
   "cell_type": "code",
   "execution_count": null,
   "id": "ca6122a9-7f0b-408a-ba54-234c1f730b6d",
   "metadata": {},
   "outputs": [],
   "source": []
  },
  {
   "cell_type": "code",
   "execution_count": null,
   "id": "74dcc3a7-92e2-4b5b-b052-417fb19b61ad",
   "metadata": {},
   "outputs": [],
   "source": []
  },
  {
   "cell_type": "code",
   "execution_count": null,
   "id": "cc7029c8-e2f2-4e16-a39b-c8b6f7e079eb",
   "metadata": {},
   "outputs": [],
   "source": []
  }
 ],
 "metadata": {
  "kernelspec": {
   "display_name": "nyc_airbnb_dev",
   "language": "python",
   "name": "nyc_airbnb_dev"
  },
  "language_info": {
   "codemirror_mode": {
    "name": "ipython",
    "version": 3
   },
   "file_extension": ".py",
   "mimetype": "text/x-python",
   "name": "python",
   "nbconvert_exporter": "python",
   "pygments_lexer": "ipython3",
   "version": "3.10.18"
  }
 },
 "nbformat": 4,
 "nbformat_minor": 5
}
